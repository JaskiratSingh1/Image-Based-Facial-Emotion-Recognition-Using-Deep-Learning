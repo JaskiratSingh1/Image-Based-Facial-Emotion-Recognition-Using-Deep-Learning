{
 "cells": [
  {
   "cell_type": "markdown",
   "metadata": {},
   "source": [
    "# Face Emotion Recognition\n",
    "\n",
    "https://huggingface.co/datasets/tukey/human_face_emotions_roboflow/viewer/default/train?p=1&views%5B%5D=train"
   ]
  },
  {
   "cell_type": "code",
   "execution_count": 2,
   "metadata": {},
   "outputs": [
    {
     "name": "stderr",
     "output_type": "stream",
     "text": [
      "c:\\Users\\rmaia\\.conda\\envs\\roxsenv\\Lib\\site-packages\\tqdm\\auto.py:21: TqdmWarning: IProgress not found. Please update jupyter and ipywidgets. See https://ipywidgets.readthedocs.io/en/stable/user_install.html\n",
      "  from .autonotebook import tqdm as notebook_tqdm\n"
     ]
    }
   ],
   "source": [
    "import pandas as pd\n",
    "import io\n",
    "from PIL import Image\n",
    "\n",
    "df = pd.read_parquet(\"hf://datasets/tukey/human_face_emotions_roboflow/data/train-00000-of-00001.parquet\")"
   ]
  },
  {
   "cell_type": "markdown",
   "metadata": {},
   "source": [
    "# Data Overview & Cleaning"
   ]
  },
  {
   "cell_type": "code",
   "execution_count": 3,
   "metadata": {},
   "outputs": [
    {
     "name": "stdout",
     "output_type": "stream",
     "text": [
      "Missing values per column:\n",
      "image    0\n",
      "qa       0\n",
      "dtype: int64\n",
      "\n",
      "Dataframe Info:\n",
      "<class 'pandas.core.frame.DataFrame'>\n",
      "RangeIndex: 9400 entries, 0 to 9399\n",
      "Data columns (total 2 columns):\n",
      " #   Column  Non-Null Count  Dtype \n",
      "---  ------  --------------  ----- \n",
      " 0   image   9400 non-null   object\n",
      " 1   qa      9400 non-null   object\n",
      "dtypes: object(2)\n",
      "memory usage: 147.0+ KB\n",
      "None\n",
      "\n",
      "First 5 rows of the dataset:\n",
      "                                               image  \\\n",
      "0  {'bytes': b'\\xff\\xd8\\xff\\xe0\\x00\\x10JFIF\\x00\\x...   \n",
      "1  {'bytes': b'\\xff\\xd8\\xff\\xe0\\x00\\x10JFIF\\x00\\x...   \n",
      "2  {'bytes': b'\\xff\\xd8\\xff\\xe0\\x00\\x10JFIF\\x00\\x...   \n",
      "3  {'bytes': b'\\xff\\xd8\\xff\\xe0\\x00\\x10JFIF\\x00\\x...   \n",
      "4  {'bytes': b'\\xff\\xd8\\xff\\xe0\\x00\\x10JFIF\\x00\\x...   \n",
      "\n",
      "                                                  qa  \n",
      "0  [{'question': 'How does the person feel in the...  \n",
      "1  [{'question': 'How does the person feel in the...  \n",
      "2  [{'question': 'How does the person feel in the...  \n",
      "3  [{'question': 'How does the person feel in the...  \n",
      "4  [{'question': 'How does the person feel in the...  \n"
     ]
    }
   ],
   "source": [
    "# Standardize column names (strip whitespace, lower-case, replace spaces with underscores)\n",
    "df.columns = [col.strip().lower().replace(' ', '_') for col in df.columns]\n",
    "\n",
    "# Check for missing values\n",
    "print(\"Missing values per column:\")\n",
    "print(df.isna().sum())\n",
    "\n",
    "# No missing values or duplicates, so we can proceed with the data as is\n",
    "\n",
    "# Print out summary information\n",
    "print(\"\\nDataframe Info:\")\n",
    "print(df.info())\n",
    "\n",
    "# Print the first few rows to inspect the data\n",
    "print(\"\\nFirst 5 rows of the dataset:\")\n",
    "print(df.head())"
   ]
  },
  {
   "cell_type": "code",
   "execution_count": 4,
   "metadata": {},
   "outputs": [
    {
     "name": "stdout",
     "output_type": "stream",
     "text": [
      "\n",
      "Missing values per column:\n",
      "image    0\n",
      "qa       0\n",
      "dtype: int64\n"
     ]
    }
   ],
   "source": [
    "# Check for missing values in each column\n",
    "print(\"\\nMissing values per column:\")\n",
    "print(df.isnull().sum())"
   ]
  },
  {
   "cell_type": "code",
   "execution_count": 5,
   "metadata": {},
   "outputs": [],
   "source": [
    "import json\n",
    "import numpy as np\n",
    "\n",
    "def extract_emotion(qa_entry):\n",
    "    try:\n",
    "        # If the qa_entry is a string, strip it and parse as JSON.\n",
    "        if isinstance(qa_entry, str):\n",
    "            qa_entry = qa_entry.strip()\n",
    "            qa_data = json.loads(qa_entry)\n",
    "        else:\n",
    "            qa_data = qa_entry\n",
    "\n",
    "        # If the data is a numpy array, convert it to a list.\n",
    "        if isinstance(qa_data, np.ndarray):\n",
    "            qa_data = qa_data.tolist()\n",
    "\n",
    "        # Now you can check if it's a list or tuple using this condition.\n",
    "        if isinstance(qa_data, (list, tuple)) and len(qa_data) > 0:\n",
    "            return qa_data[0].get(\"answer\")\n",
    "        else:\n",
    "            print(\"Unexpected qa_data structure:\", qa_data, \"with type\", type(qa_data))\n",
    "    except Exception as e:\n",
    "        print(\"Error parsing qa entry:\", qa_entry, \"\\nError:\", e)\n",
    "    return None"
   ]
  },
  {
   "cell_type": "code",
   "execution_count": 6,
   "metadata": {},
   "outputs": [
    {
     "name": "stdout",
     "output_type": "stream",
     "text": [
      "                                                  qa  emotion\n",
      "0  [{'question': 'How does the person feel in the...      sad\n",
      "1  [{'question': 'How does the person feel in the...    anger\n",
      "2  [{'question': 'How does the person feel in the...  neutral\n",
      "3  [{'question': 'How does the person feel in the...     fear\n",
      "4  [{'question': 'How does the person feel in the...  content\n"
     ]
    }
   ],
   "source": [
    "# Assuming df is your DataFrame that includes the 'qa' column\n",
    "df[\"emotion\"] = df[\"qa\"].apply(extract_emotion)\n",
    "\n",
    "# Verify the new column\n",
    "print(df[[\"qa\", \"emotion\"]].head())"
   ]
  },
  {
   "cell_type": "code",
   "execution_count": 7,
   "metadata": {},
   "outputs": [
    {
     "name": "stdout",
     "output_type": "stream",
     "text": [
      "\n",
      "Unique emotion labels:\n",
      "['sad' 'anger' 'neutral' 'fear' 'content' 'happy' 'disgust' 'surprise']\n",
      "\n",
      "Distribution of emotion labels:\n",
      "emotion\n",
      "surprise    1238\n",
      "neutral     1225\n",
      "sad         1184\n",
      "fear        1181\n",
      "anger       1175\n",
      "disgust     1165\n",
      "content     1144\n",
      "happy       1088\n",
      "Name: count, dtype: int64\n"
     ]
    }
   ],
   "source": [
    "# Check unique values and distribution of facial emotion labels\n",
    "if 'emotion' in df.columns:\n",
    "    print(\"\\nUnique emotion labels:\")\n",
    "    print(df['emotion'].unique())\n",
    "\n",
    "    print(\"\\nDistribution of emotion labels:\")\n",
    "    print(df['emotion'].value_counts())"
   ]
  },
  {
   "cell_type": "code",
   "execution_count": 8,
   "metadata": {},
   "outputs": [],
   "source": [
    "import matplotlib.pyplot as plt\n",
    "\n",
    "# Example: Plot a histogram for a numeric column, adjust 'score' to the relevant column name\n",
    "if 'score' in df.columns:\n",
    "    plt.hist(df['score'].dropna(), bins=30, edgecolor='k')\n",
    "    plt.xlabel(\"Score\")\n",
    "    plt.ylabel(\"Frequency\")\n",
    "    plt.title(\"Histogram of Scores\")\n",
    "    plt.show()"
   ]
  },
  {
   "cell_type": "code",
   "execution_count": 10,
   "metadata": {},
   "outputs": [],
   "source": [
    "# Optionally, save the cleaned dataframe to disk as a new parquet file or CSV\n",
    "df.to_parquet(\"cleaned_human_face_emotions.parquet\")\n",
    "# Alternatively, you can save as CSV:\n",
    "# df.to_csv(\"cleaned_human_face_emotions.csv\", index=False)"
   ]
  }
 ],
 "metadata": {
  "kernelspec": {
   "display_name": "Python 3",
   "language": "python",
   "name": "python3"
  },
  "language_info": {
   "codemirror_mode": {
    "name": "ipython",
    "version": 3
   },
   "file_extension": ".py",
   "mimetype": "text/x-python",
   "name": "python",
   "nbconvert_exporter": "python",
   "pygments_lexer": "ipython3",
   "version": "3.12.3"
  }
 },
 "nbformat": 4,
 "nbformat_minor": 2
}
